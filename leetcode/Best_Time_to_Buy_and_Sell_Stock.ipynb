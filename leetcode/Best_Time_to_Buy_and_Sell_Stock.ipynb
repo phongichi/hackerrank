{
  "nbformat": 4,
  "nbformat_minor": 0,
  "metadata": {
    "colab": {
      "name": "Best Time to Buy and Sell Stock.ipynb",
      "provenance": []
    },
    "kernelspec": {
      "name": "python3",
      "display_name": "Python 3"
    },
    "language_info": {
      "name": "python"
    },
    "accelerator": "GPU",
    "gpuClass": "standard"
  },
  "cells": [
    {
      "cell_type": "code",
      "execution_count": 1,
      "metadata": {
        "id": "el_YFVM5Jy-Q"
      },
      "outputs": [],
      "source": [
        "import numpy as np"
      ]
    },
    {
      "cell_type": "markdown",
      "source": [
        "You are given an array prices where prices[i] is the price of a given stock on the ith day.\n",
        "\n",
        "You want to maximize your profit by choosing a single day to buy one stock and choosing a different day in the future to sell that stock.\n",
        "\n",
        "Return the maximum profit you can achieve from this transaction. If you cannot achieve any profit, return 0."
      ],
      "metadata": {
        "id": "aSsbXXr_J5Ij"
      }
    },
    {
      "cell_type": "markdown",
      "source": [
        "Example 1:\n",
        "\n",
        "+ Input: prices = [7,1,5,3,6,4]\n",
        "+ Output: 5\n",
        "+ Explanation: Buy on day 2 (price = 1) and sell on day 5 (price = 6), profit = 6-1 = 5.\n",
        "Note that buying on day 2 and selling on day 1 is not allowed because you must buy before you sell."
      ],
      "metadata": {
        "id": "2nYAE_puM9Jc"
      }
    },
    {
      "cell_type": "markdown",
      "source": [
        "Example 2:\n",
        "\n",
        "+ Input: prices = [7,6,4,3,1]\n",
        "+ Output: 0\n",
        "+ Explanation: In this case, no transactions are done and the max profit = 0."
      ],
      "metadata": {
        "id": "bj7uperxOsn8"
      }
    },
    {
      "cell_type": "code",
      "source": [
        "prices = [7,1,5,3,6,4]\n",
        "profit = []\n",
        "for i in np.arange(len(prices)):\n",
        "  for j in np.arange(i+1,len(prices)):\n",
        "   profit.append(prices[j]-prices[i])\n",
        "   \n",
        "print(profit)\n",
        "\n"
      ],
      "metadata": {
        "colab": {
          "base_uri": "https://localhost:8080/"
        },
        "id": "i5rXhrG7J036",
        "outputId": "b58cc31b-5c6e-474d-df7e-9f766f56ab07"
      },
      "execution_count": 18,
      "outputs": [
        {
          "output_type": "stream",
          "name": "stdout",
          "text": [
            "[-6, -2, -4, -1, -3, 4, 2, 5, 3, -2, 1, -1, 3, 1, -2]\n"
          ]
        }
      ]
    },
    {
      "cell_type": "code",
      "source": [
        "class Best_Time_to_Buy_and_Sell_Stock:\n",
        "  def solution1(prices):\n",
        "    profit=[]\n",
        "    for i in np.arange(len(prices)):\n",
        "      for j in np.arange(i+1,len(prices)):\n",
        "        profit.append(prices[j]-prices[i])\n",
        "    output = np.amax(profit)\n",
        "    if output <=0 :\n",
        "      print(\"no transactions are done because profit is 0 \")\n",
        "    else :\n",
        "      print(\"profit is:\",output)"
      ],
      "metadata": {
        "id": "ELmHxpVNJ07L"
      },
      "execution_count": 28,
      "outputs": []
    },
    {
      "cell_type": "code",
      "source": [
        "prices = [7,1,5,3,6,4]\n",
        "Best_Time_to_Buy_and_Sell_Stock.solution1(prices)"
      ],
      "metadata": {
        "colab": {
          "base_uri": "https://localhost:8080/"
        },
        "id": "cN0-TCAcJ0-l",
        "outputId": "0a8f46de-d627-4de9-8cce-3260a0d7cd18"
      },
      "execution_count": 29,
      "outputs": [
        {
          "output_type": "stream",
          "name": "stdout",
          "text": [
            "profit is: 5\n"
          ]
        }
      ]
    },
    {
      "cell_type": "code",
      "source": [
        "prices = [7,6,4,3,1]\n",
        "Best_Time_to_Buy_and_Sell_Stock.solution1(prices)"
      ],
      "metadata": {
        "colab": {
          "base_uri": "https://localhost:8080/"
        },
        "id": "yzEBjsM5J1B5",
        "outputId": "24f0ee12-3a0d-42fe-c5a2-ac891769e701"
      },
      "execution_count": 30,
      "outputs": [
        {
          "output_type": "stream",
          "name": "stdout",
          "text": [
            "no transactions are done because profit is 0 \n"
          ]
        }
      ]
    },
    {
      "cell_type": "code",
      "source": [],
      "metadata": {
        "id": "N2--mrQjJ1Fi"
      },
      "execution_count": null,
      "outputs": []
    }
  ]
}