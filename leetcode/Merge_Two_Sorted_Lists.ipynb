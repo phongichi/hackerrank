{
  "nbformat": 4,
  "nbformat_minor": 0,
  "metadata": {
    "colab": {
      "name": "Merge_Two_Sorted_Lists.ipynb",
      "provenance": []
    },
    "kernelspec": {
      "name": "python3",
      "display_name": "Python 3"
    },
    "language_info": {
      "name": "python"
    },
    "accelerator": "GPU",
    "gpuClass": "standard"
  },
  "cells": [
    {
      "cell_type": "code",
      "execution_count": 21,
      "metadata": {
        "id": "foRmmH0XAy9I"
      },
      "outputs": [],
      "source": [
        "import numpy as np\n",
        "from heapq import merge"
      ]
    },
    {
      "cell_type": "markdown",
      "source": [
        "You are given the heads of two sorted linked lists list1 and list2.\n",
        "\n",
        "Merge the two lists in a one sorted list. The list should be made by splicing together the nodes of the first two lists.\n",
        "\n",
        "Return the head of the merged linked list."
      ],
      "metadata": {
        "id": "ZBbPGOMhErwF"
      }
    },
    {
      "cell_type": "markdown",
      "source": [
        "Example 1:\n",
        "+ Input: list1 = [1,2,4], list2 = [1,3,4]\n",
        "+ Output: [1,1,2,3,4,4]\n",
        "\n",
        "Example 2:\n",
        "\n",
        "+ Input: list1 = [], list2 = []\n",
        "+ Output: []\n",
        "\n",
        "Example 3:\n",
        "\n",
        "+ Input: list1 = [], list2 = [0]\n",
        "+ Output: [0]"
      ],
      "metadata": {
        "id": "9KGta7GkE-dD"
      }
    },
    {
      "cell_type": "code",
      "source": [
        "class Merge_Two_Sorted_Lists:\n",
        "  def solution1(list1,list2):\n",
        "    # numpy solution\n",
        "    list1=np.array([list1])\n",
        "    list2=np.array([list2])\n",
        "    output = np.sort(np.concatenate((list1,list2),axis=1))\n",
        "    return output\n",
        "\n",
        "  def solution2(list1,list2):\n",
        "    # normal solution \n",
        "    output = list(sorted(merge(list1,list2)))\n",
        "    return output"
      ],
      "metadata": {
        "id": "wImGIlqlA4UE"
      },
      "execution_count": 24,
      "outputs": []
    },
    {
      "cell_type": "markdown",
      "source": [
        "test"
      ],
      "metadata": {
        "id": "vdLAeK7lG0RE"
      }
    },
    {
      "cell_type": "code",
      "source": [
        "list1 = [1,2,4] \n",
        "list2 = [1,3,4]\n",
        "\n",
        "output1 =Merge_Two_Sorted_Lists.solution1(list1,list2)\n",
        "output2 =Merge_Two_Sorted_Lists.solution2(list1,list2)\n",
        "\n",
        "print(output1)\n",
        "print(output2)"
      ],
      "metadata": {
        "colab": {
          "base_uri": "https://localhost:8080/"
        },
        "id": "BlZLhV0UA4Xb",
        "outputId": "e776a69b-5cf2-4a7b-958b-40d56d63489a"
      },
      "execution_count": 25,
      "outputs": [
        {
          "output_type": "stream",
          "name": "stdout",
          "text": [
            "[[1 1 2 3 4 4]]\n",
            "[1, 1, 2, 3, 4, 4]\n"
          ]
        }
      ]
    },
    {
      "cell_type": "code",
      "source": [],
      "metadata": {
        "id": "DdqNivoCA4eP"
      },
      "execution_count": null,
      "outputs": []
    }
  ]
}