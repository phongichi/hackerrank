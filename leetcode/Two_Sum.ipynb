{
  "nbformat": 4,
  "nbformat_minor": 0,
  "metadata": {
    "colab": {
      "name": "Two_Sum.ipynb",
      "provenance": []
    },
    "kernelspec": {
      "name": "python3",
      "display_name": "Python 3"
    },
    "language_info": {
      "name": "python"
    },
    "accelerator": "GPU",
    "gpuClass": "standard"
  },
  "cells": [
    {
      "cell_type": "code",
      "execution_count": 5,
      "metadata": {
        "id": "-1Tl4RLk5Npx"
      },
      "outputs": [],
      "source": [
        "import numpy as np"
      ]
    },
    {
      "cell_type": "markdown",
      "source": [
        "#1. Two Sum\n",
        "\n"
      ],
      "metadata": {
        "id": "XnA4DF8582uX"
      }
    },
    {
      "cell_type": "markdown",
      "source": [
        "Given an array of integers nums and an integer target, return indices of the two numbers such that they add up to target.\n",
        "\n",
        "You may assume that each input would have exactly one solution, and you may not use the same element twice.\n",
        "\n",
        "You can return the answer in any order."
      ],
      "metadata": {
        "id": "5iejbOsL9BEN"
      }
    },
    {
      "cell_type": "markdown",
      "source": [
        "Example 1:\n",
        "\n",
        "+ Input: nums = [2,7,11,15], target = 9\n",
        "+ Output: [0,1]\n",
        "+ Explanation: Because nums[0] + nums[1] == 9, we return [0, 1]."
      ],
      "metadata": {
        "id": "XVv87_ct95Zt"
      }
    },
    {
      "cell_type": "code",
      "source": [
        "#solution 1\n",
        "class solution :\n",
        "  def twosum1(arr,target):\n",
        "    for i in np.arange(len(arr)):\n",
        "      for j in np.arange(len(arr)):\n",
        "        if arr[i]+arr[j] == target:\n",
        "          return [i,j]\n",
        "  def twosum2 (arr,target):\n",
        "    Value ={}\n",
        "    for i in np.arange(len(arr)) :\n",
        "      if target-arr[i] in Value :\n",
        "        return [Value[target-arr[i]],i]\n",
        "      else:\n",
        "        Value[arr[i]]=i\n",
        "                \n",
        "\n",
        "\n"
      ],
      "metadata": {
        "id": "UyYIbvbN825M"
      },
      "execution_count": 31,
      "outputs": []
    },
    {
      "cell_type": "markdown",
      "source": [
        "test"
      ],
      "metadata": {
        "id": "DhxJd35LATSv"
      }
    },
    {
      "cell_type": "code",
      "source": [
        "arr = [2,7,11,15]\n",
        "target =9\n",
        "s1= solution.twosum1(arr,target)\n",
        "s2 = solution.twosum2(arr,target)\n",
        "print(s1)\n",
        "print(s2)\n"
      ],
      "metadata": {
        "colab": {
          "base_uri": "https://localhost:8080/"
        },
        "id": "AXLi8j2-83As",
        "outputId": "c950e00d-3293-4e4e-b212-d1734506ed80"
      },
      "execution_count": 32,
      "outputs": [
        {
          "output_type": "stream",
          "name": "stdout",
          "text": [
            "[0, 1]\n",
            "[0, 1]\n"
          ]
        }
      ]
    }
  ]
}