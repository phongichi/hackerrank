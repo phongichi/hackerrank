{
  "nbformat": 4,
  "nbformat_minor": 0,
  "metadata": {
    "colab": {
      "name": "Valid_Parentheses.ipynb",
      "provenance": []
    },
    "kernelspec": {
      "name": "python3",
      "display_name": "Python 3"
    },
    "language_info": {
      "name": "python"
    }
  },
  "cells": [
    {
      "cell_type": "code",
      "execution_count": 22,
      "metadata": {
        "id": "dTvLr0eMSUUL"
      },
      "outputs": [],
      "source": []
    },
    {
      "cell_type": "markdown",
      "source": [
        "Given a string s containing just the characters '(', ')', '{', '}', '[' and ']', determine if the input string is valid.\n",
        "\n",
        "An input string is valid if:\n",
        "\n",
        "+ Open brackets must be closed by the same type of brackets.\n",
        "+ Open brackets must be closed in the correct order.\n",
        "+ Every close bracket has a corresponding open bracket of the same type."
      ],
      "metadata": {
        "id": "EbwA0QtnShSk"
      }
    },
    {
      "cell_type": "markdown",
      "source": [
        "Example 1:\n",
        "\n",
        "+ Input: s = \"()\"\n",
        "+ Output: true\n",
        "\n",
        "Example 2:\n",
        "\n",
        "+ Input: s = \"()[]{}\"\n",
        "+ Output: true\n",
        "\n",
        "Example 3:\n",
        "\n",
        "+ Input: s = \"(]\"\n",
        "+ Output: false"
      ],
      "metadata": {
        "id": "aUpozSbySnBL"
      }
    },
    {
      "cell_type": "code",
      "source": [
        "class solution:\n",
        "  def is_Valid(test_str):\n",
        "      # len(test_str) is odd -> invalid!\n",
        "      if len(test_str)%2 != 0 :\n",
        "        return False\n",
        "       # initialize parentheses dict\n",
        "      par_dict = {\n",
        "           '(':')',\n",
        "           '{':'}',\n",
        "           '[':']'\n",
        "           }\n",
        "      stack =[]\n",
        "      for char in test_str :\n",
        "        # push opening bracket to stack\n",
        "        if char in par_dict.keys():\n",
        "          stack.append(char)\n",
        "        else :\n",
        "          # closing bracket without matching opening bracket\n",
        "          if stack==[]:\n",
        "            return False\n",
        "            # if closing bracket -> pop stack top\n",
        "          else :\n",
        "            open_brac = stack.pop()\n",
        "            if char != par_dict[open_brac]:\n",
        "              return False\n",
        "            else:\n",
        "              return True"
      ],
      "metadata": {
        "id": "gYhpJz3ZSmFo"
      },
      "execution_count": 23,
      "outputs": []
    },
    {
      "cell_type": "markdown",
      "source": [
        "test"
      ],
      "metadata": {
        "id": "mMs9LP_SXouR"
      }
    },
    {
      "cell_type": "code",
      "source": [
        "s = \"()\"\n",
        "print(solution.is_Valid(s))"
      ],
      "metadata": {
        "colab": {
          "base_uri": "https://localhost:8080/"
        },
        "id": "eBoJbbP5XnXj",
        "outputId": "80b29413-7519-440c-d5f1-353d1aa3f161"
      },
      "execution_count": 24,
      "outputs": [
        {
          "output_type": "stream",
          "name": "stdout",
          "text": [
            "True\n"
          ]
        }
      ]
    },
    {
      "cell_type": "code",
      "source": [
        "s =  \"()[]{}\"\n",
        "print(solution.is_Valid(s))"
      ],
      "metadata": {
        "colab": {
          "base_uri": "https://localhost:8080/"
        },
        "outputId": "127af422-9311-4476-8dc0-809ae9e508c0",
        "id": "5YLAhzqtgkRL"
      },
      "execution_count": 25,
      "outputs": [
        {
          "output_type": "stream",
          "name": "stdout",
          "text": [
            "True\n"
          ]
        }
      ]
    },
    {
      "cell_type": "code",
      "source": [
        "s =  \"(]\"\n",
        "print(solution.is_Valid(s))"
      ],
      "metadata": {
        "colab": {
          "base_uri": "https://localhost:8080/"
        },
        "outputId": "52923513-83a7-4dce-8071-29f2b61059b8",
        "id": "JYpKut_1gko-"
      },
      "execution_count": 26,
      "outputs": [
        {
          "output_type": "stream",
          "name": "stdout",
          "text": [
            "False\n"
          ]
        }
      ]
    }
  ]
}