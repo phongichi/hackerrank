{
 "cells": [
  {
   "cell_type": "markdown",
   "metadata": {},
   "source": []
  },
  {
   "cell_type": "markdown",
   "metadata": {},
   "source": [
    "## Task 1 : simple array sum\n",
    "Given an array of integers, find the sum of its elements.\n",
    "\n",
    "For example, if the array ar = [1, 2, 3], 1 + 2 + 3 = 6, so return 6."
   ]
  },
  {
   "cell_type": "code",
   "execution_count": 1,
   "metadata": {},
   "outputs": [
    {
     "name": "stdout",
     "output_type": "stream",
     "text": [
      "10\n"
     ]
    }
   ],
   "source": [
    "## solution 1 :\n",
    "n = int(input().strip())\n",
    "arr = [int(arr_temp) for arr_temp in input().strip().split(' ')]\n",
    "print(sum(arr))"
   ]
  },
  {
   "cell_type": "code",
   "execution_count": 5,
   "metadata": {},
   "outputs": [
    {
     "name": "stdout",
     "output_type": "stream",
     "text": [
      "15\n"
     ]
    }
   ],
   "source": [
    "## solution 2 :\n",
    "nums = list(map(int, input().split()))\n",
    "sum = 0\n",
    "for num in nums:\n",
    "    sum += num\n",
    "print(sum)"
   ]
  },
  {
   "cell_type": "code",
   "execution_count": 11,
   "metadata": {},
   "outputs": [
    {
     "name": "stdout",
     "output_type": "stream",
     "text": [
      "15\n"
     ]
    }
   ],
   "source": [
    "## solution 3 :\n",
    "arr = list(map(int,input().split()))\n",
    "\n",
    "def simple_array_sum(arr):\n",
    "    sum = 0\n",
    "    for num in arr :\n",
    "        sum = sum + num\n",
    "    return sum\n",
    "\n",
    "s = simple_array_sum(arr) \n",
    "print(s)  \n"
   ]
  },
  {
   "cell_type": "markdown",
   "metadata": {},
   "source": []
  },
  {
   "cell_type": "markdown",
   "metadata": {},
   "source": []
  },
  {
   "cell_type": "markdown",
   "metadata": {},
   "source": [
    "# TASK 2 : compare the triples \n",
    "Alice and Bob each created one problem for HackerRank. A reviewer rates the two challenges, awarding points on a scale from 1 to 100 for three categories: problem clarity, originality, and difficulty.\n",
    "\n",
    "The rating for Alice's challenge is the triplet a = (a[0], a[1], a[2]), and the rating for Bob's challenge is the triplet b = (b[0], b[1], b[2]).\n",
    "\n",
    "The task is to find their comparison points by comparing a[0] with b[0], a[1] with b[1], and a[2] with b[2].\n",
    "\n",
    "If a[i] > b[i], then Alice is awarded 1 point.\n",
    "If a[i] < b[i], then Bob is awarded 1 point.\n",
    "If a[i] = b[i], then neither person receives a point.\n",
    "Comparison points is the total points a person earned.\n",
    "\n",
    "Given a and b, determine their respective comparison points."
   ]
  },
  {
   "cell_type": "markdown",
   "metadata": {},
   "source": []
  },
  {
   "cell_type": "code",
   "execution_count": 77,
   "metadata": {},
   "outputs": [
    {
     "name": "stdout",
     "output_type": "stream",
     "text": [
      "[1, 1]\n"
     ]
    }
   ],
   "source": [
    "# solution 1 : using for loop \n",
    "import numpy as np\n",
    "\n",
    "a = np.array(list(map(int,input().split()))).reshape(3,)\n",
    "\n",
    "b = np.array(list(map(int,input().split()))).reshape(3,)\n",
    "\n",
    "\n",
    "def compareTriplets(a, b):\n",
    "   score_awarded = [] \n",
    "   Alice_awarded = 0\n",
    "   Bob_awarded = 0\n",
    "   for i in range(0,len(a)):\n",
    "      if a[i] > b[i] :\n",
    "         Alice_awarded +=1\n",
    "      elif b[i] > a[i] :\n",
    "         Bob_awarded +=1\n",
    "      else :\n",
    "         continue\n",
    "\n",
    "      \n",
    "   score_awarded.append(Alice_awarded)\n",
    "   score_awarded.append(Bob_awarded)\n",
    "   return score_awarded\n",
    "\n",
    "result = compareTriplets(a, b)\n",
    "print(result)\n",
    "\n"
   ]
  }
 ],
 "metadata": {
  "kernelspec": {
   "display_name": "Python 3.10.5 64-bit",
   "language": "python",
   "name": "python3"
  },
  "language_info": {
   "codemirror_mode": {
    "name": "ipython",
    "version": 3
   },
   "file_extension": ".py",
   "mimetype": "text/x-python",
   "name": "python",
   "nbconvert_exporter": "python",
   "pygments_lexer": "ipython3",
   "version": "3.10.5"
  },
  "orig_nbformat": 4,
  "vscode": {
   "interpreter": {
    "hash": "a42ccb73e7d9bfdf27e036f1d2b8b681e55fc0743cc5586bc2474d4a60f4b886"
   }
  }
 },
 "nbformat": 4,
 "nbformat_minor": 2
}
